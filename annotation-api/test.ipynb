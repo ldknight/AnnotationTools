{
 "cells": [
  {
   "cell_type": "code",
   "execution_count": 8,
   "metadata": {},
   "outputs": [
    {
     "name": "stdout",
     "output_type": "stream",
     "text": [
      "1681704853\n"
     ]
    }
   ],
   "source": [
    "import time\n",
    "print(int(time.time()))"
   ]
  },
  {
   "cell_type": "code",
   "execution_count": 6,
   "metadata": {},
   "outputs": [
    {
     "name": "stdout",
     "output_type": "stream",
     "text": [
      "['/Users/liudun/Desktop/anno_tools/AnnotationTools/demo_imgs/282651c6f7/00085.jpg', '/Users/liudun/Desktop/anno_tools/AnnotationTools/demo_imgs/282651c6f7/00090.jpg', '/Users/liudun/Desktop/anno_tools/AnnotationTools/demo_imgs/282651c6f7/00125.jpg', '/Users/liudun/Desktop/anno_tools/AnnotationTools/demo_imgs/282651c6f7/00045.jpg', '/Users/liudun/Desktop/anno_tools/AnnotationTools/demo_imgs/282651c6f7/00050.jpg', '/Users/liudun/Desktop/anno_tools/AnnotationTools/demo_imgs/282651c6f7/00130.jpg', '/Users/liudun/Desktop/anno_tools/AnnotationTools/demo_imgs/282651c6f7/00120.jpg', '/Users/liudun/Desktop/anno_tools/AnnotationTools/demo_imgs/282651c6f7/00040.jpg', '/Users/liudun/Desktop/anno_tools/AnnotationTools/demo_imgs/282651c6f7/00055.jpg', '/Users/liudun/Desktop/anno_tools/AnnotationTools/demo_imgs/282651c6f7/00135.jpg', '/Users/liudun/Desktop/anno_tools/AnnotationTools/demo_imgs/282651c6f7/00080.jpg', '/Users/liudun/Desktop/anno_tools/AnnotationTools/demo_imgs/282651c6f7/00095.jpg', '/Users/liudun/Desktop/anno_tools/AnnotationTools/demo_imgs/282651c6f7/00145.jpg', '/Users/liudun/Desktop/anno_tools/AnnotationTools/demo_imgs/282651c6f7/00025.jpg', '/Users/liudun/Desktop/anno_tools/AnnotationTools/demo_imgs/282651c6f7/00030.jpg', '/Users/liudun/Desktop/anno_tools/AnnotationTools/demo_imgs/282651c6f7/00150.jpg', '/Users/liudun/Desktop/anno_tools/AnnotationTools/demo_imgs/282651c6f7/00140.jpg', '/Users/liudun/Desktop/anno_tools/AnnotationTools/demo_imgs/282651c6f7/00020.jpg', '/Users/liudun/Desktop/anno_tools/AnnotationTools/demo_imgs/282651c6f7/00035.jpg', '/Users/liudun/Desktop/anno_tools/AnnotationTools/demo_imgs/282651c6f7/00155.jpg', '/Users/liudun/Desktop/anno_tools/AnnotationTools/demo_imgs/282651c6f7/00170.jpg', '/Users/liudun/Desktop/anno_tools/AnnotationTools/demo_imgs/282651c6f7/00010.jpg', '/Users/liudun/Desktop/anno_tools/AnnotationTools/demo_imgs/282651c6f7/00005.jpg', '/Users/liudun/Desktop/anno_tools/AnnotationTools/demo_imgs/282651c6f7/00165.jpg', '/Users/liudun/Desktop/anno_tools/AnnotationTools/demo_imgs/282651c6f7/00175.jpg', '/Users/liudun/Desktop/anno_tools/AnnotationTools/demo_imgs/282651c6f7/00015.jpg', '/Users/liudun/Desktop/anno_tools/AnnotationTools/demo_imgs/282651c6f7/00000.jpg', '/Users/liudun/Desktop/anno_tools/AnnotationTools/demo_imgs/282651c6f7/00160.jpg', '/Users/liudun/Desktop/anno_tools/AnnotationTools/demo_imgs/282651c6f7/00110.jpg', '/Users/liudun/Desktop/anno_tools/AnnotationTools/demo_imgs/282651c6f7/00070.jpg', '/Users/liudun/Desktop/anno_tools/AnnotationTools/demo_imgs/282651c6f7/00065.jpg', '/Users/liudun/Desktop/anno_tools/AnnotationTools/demo_imgs/282651c6f7/00105.jpg', '/Users/liudun/Desktop/anno_tools/AnnotationTools/demo_imgs/282651c6f7/00115.jpg', '/Users/liudun/Desktop/anno_tools/AnnotationTools/demo_imgs/282651c6f7/00075.jpg', '/Users/liudun/Desktop/anno_tools/AnnotationTools/demo_imgs/282651c6f7/00060.jpg', '/Users/liudun/Desktop/anno_tools/AnnotationTools/demo_imgs/282651c6f7/00100.jpg']\n",
      "('/Users/liudun/Desktop/anno_tools/AnnotationTools/demo_imgs/282651c6f7', '00165.jpg')\n"
     ]
    }
   ],
   "source": [
    "from glob import glob\n",
    "import os\n",
    "print(glob(\"/Users/liudun/Desktop/anno_tools/AnnotationTools/demo_imgs/282651c6f7/\" + \"//*\"))\n",
    "print(os.path.split(\"/Users/liudun/Desktop/anno_tools/AnnotationTools/demo_imgs/282651c6f7/00165.jpg\"))\n"
   ]
  }
 ],
 "metadata": {
  "kernelspec": {
   "display_name": "anchorfree",
   "language": "python",
   "name": "python3"
  },
  "language_info": {
   "codemirror_mode": {
    "name": "ipython",
    "version": 3
   },
   "file_extension": ".py",
   "mimetype": "text/x-python",
   "name": "python",
   "nbconvert_exporter": "python",
   "pygments_lexer": "ipython3",
   "version": "3.7.13"
  },
  "orig_nbformat": 4
 },
 "nbformat": 4,
 "nbformat_minor": 2
}
